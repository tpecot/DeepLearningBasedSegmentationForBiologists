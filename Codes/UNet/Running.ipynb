{
 "cells": [
  {
   "cell_type": "markdown",
   "metadata": {},
   "source": [
    "## Loading\n",
    "\n",
    "The first step is to load the libraries and functions we need."
   ]
  },
  {
   "cell_type": "code",
   "execution_count": 1,
   "metadata": {},
   "outputs": [
    {
     "name": "stderr",
     "output_type": "stream",
     "text": [
      "Using TensorFlow backend.\n"
     ]
    }
   ],
   "source": [
    "from utils import run_models_on_directory\n",
    "from models import unet as unet"
   ]
  },
  {
   "cell_type": "markdown",
   "metadata": {},
   "source": [
    "## Setting parameters\n",
    "\n",
    "The second step is to define the parameters required to run a model."
   ]
  },
  {
   "cell_type": "code",
   "execution_count": 2,
   "metadata": {
    "scrolled": false
   },
   "outputs": [
    {
     "name": "stdout",
     "output_type": "stream",
     "text": [
      "WARNING:tensorflow:From /media/thierry/thp202/Work/Jupyter/NucleiSegmentationAndMarkerIDentification/deep_env/lib/python3.6/site-packages/keras/backend/tensorflow_backend.py:74: The name tf.get_default_graph is deprecated. Please use tf.compat.v1.get_default_graph instead.\n",
      "\n",
      "WARNING:tensorflow:From /media/thierry/thp202/Work/Jupyter/NucleiSegmentationAndMarkerIDentification/deep_env/lib/python3.6/site-packages/keras/backend/tensorflow_backend.py:517: The name tf.placeholder is deprecated. Please use tf.compat.v1.placeholder instead.\n",
      "\n",
      "WARNING:tensorflow:From /media/thierry/thp202/Work/Jupyter/NucleiSegmentationAndMarkerIDentification/deep_env/lib/python3.6/site-packages/keras/backend/tensorflow_backend.py:4138: The name tf.random_uniform is deprecated. Please use tf.random.uniform instead.\n",
      "\n",
      "WARNING:tensorflow:From /media/thierry/thp202/Work/Jupyter/NucleiSegmentationAndMarkerIDentification/deep_env/lib/python3.6/site-packages/keras/backend/tensorflow_backend.py:174: The name tf.get_default_session is deprecated. Please use tf.compat.v1.get_default_session instead.\n",
      "\n",
      "WARNING:tensorflow:From /media/thierry/thp202/Work/Jupyter/NucleiSegmentationAndMarkerIDentification/deep_env/lib/python3.6/site-packages/keras/backend/tensorflow_backend.py:181: The name tf.ConfigProto is deprecated. Please use tf.compat.v1.ConfigProto instead.\n",
      "\n",
      "WARNING:tensorflow:From /media/thierry/thp202/Work/Jupyter/NucleiSegmentationAndMarkerIDentification/deep_env/lib/python3.6/site-packages/keras/backend/tensorflow_backend.py:1834: The name tf.nn.fused_batch_norm is deprecated. Please use tf.compat.v1.nn.fused_batch_norm instead.\n",
      "\n",
      "WARNING:tensorflow:From /media/thierry/thp202/Work/Jupyter/NucleiSegmentationAndMarkerIDentification/deep_env/lib/python3.6/site-packages/keras/backend/tensorflow_backend.py:3976: The name tf.nn.max_pool is deprecated. Please use tf.nn.max_pool2d instead.\n",
      "\n",
      "WARNING:tensorflow:From /media/thierry/thp202/Work/Jupyter/NucleiSegmentationAndMarkerIDentification/deep_env/lib/python3.6/site-packages/keras/backend/tensorflow_backend.py:2018: The name tf.image.resize_nearest_neighbor is deprecated. Please use tf.compat.v1.image.resize_nearest_neighbor instead.\n",
      "\n"
     ]
    }
   ],
   "source": [
    "########################\n",
    "# Image and model parameters\n",
    "########################\n",
    "# location of folder with images to be segmented\n",
    "input_dir = \"./datasets/EpitheliumStroma/test/\"\n",
    "\n",
    "# model location and name\n",
    "model_path = \"./trainedClassifiers/EpitheliumStroma/Unet_DAPI_CK_1024_DA0_25ep.h5\"\n",
    "\n",
    "# number of channels\n",
    "nb_channels = 2\n",
    "\n",
    "# number of classes\n",
    "nb_classes = 3\n",
    "\n",
    "# imaging field dimension (image size used in U-Net)\n",
    "imaging_field_x = 1024\n",
    "imaging_field_y = 1024\n",
    "\n",
    "########################\n",
    "# Output parameters\n",
    "########################\n",
    "# location of folder with processed segmented images, created if does not exist\n",
    "output_dir = \"./datasets/EpitheliumStroma/results_1024/\"\n",
    "\n",
    "########################\n",
    "# Model initialization\n",
    "########################\n",
    "model = unet(nb_classes, imaging_field_x, imaging_field_y, nb_channels, model_path)"
   ]
  },
  {
   "cell_type": "markdown",
   "metadata": {},
   "source": [
    "## Running U-Net\n",
    "\n",
    "Now, images can be segmented."
   ]
  },
  {
   "cell_type": "code",
   "execution_count": 3,
   "metadata": {
    "scrolled": false
   },
   "outputs": [
    {
     "name": "stdout",
     "output_type": "stream",
     "text": [
      "Processing image  1  of  14\n",
      "Processing image  2  of  14\n",
      "Processing image  3  of  14\n",
      "Processing image  4  of  14\n",
      "Processing image  5  of  14\n",
      "Processing image  6  of  14\n",
      "Processing image  7  of  14\n",
      "Processing image  8  of  14\n",
      "Processing image  9  of  14\n",
      "Processing image  10  of  14\n",
      "Processing image  11  of  14\n",
      "Processing image  12  of  14\n",
      "Processing image  13  of  14\n",
      "Processing image  14  of  14\n"
     ]
    }
   ],
   "source": [
    "run_models_on_directory(input_dir, output_dir, model)"
   ]
  },
  {
   "cell_type": "code",
   "execution_count": null,
   "metadata": {},
   "outputs": [],
   "source": []
  }
 ],
 "metadata": {
  "kernelspec": {
   "display_name": "Python 3",
   "language": "python",
   "name": "python3"
  },
  "language_info": {
   "codemirror_mode": {
    "name": "ipython",
    "version": 3
   },
   "file_extension": ".py",
   "mimetype": "text/x-python",
   "name": "python",
   "nbconvert_exporter": "python",
   "pygments_lexer": "ipython3",
   "version": "3.6.9"
  }
 },
 "nbformat": 4,
 "nbformat_minor": 1
}
