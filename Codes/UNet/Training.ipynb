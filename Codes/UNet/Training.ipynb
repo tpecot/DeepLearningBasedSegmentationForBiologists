{
 "cells": [
  {
   "cell_type": "markdown",
   "metadata": {},
   "source": [
    "## Loading\n",
    "\n",
    "The first step is to load the libraries and functions we need."
   ]
  },
  {
   "cell_type": "code",
   "execution_count": 1,
   "metadata": {},
   "outputs": [
    {
     "name": "stderr",
     "output_type": "stream",
     "text": [
      "Using TensorFlow backend.\n"
     ]
    }
   ],
   "source": [
    "import sys\n",
    "sys.path.append(\"Mask_RCNN-2.1\")\n",
    "import mrcnn_model\n",
    "import mrcnn_utils\n",
    "sys.path.append(\"biomagdsb\")\n",
    "import mask_rcnn_additional\n",
    "import additional_train"
   ]
  },
  {
   "cell_type": "markdown",
   "metadata": {},
   "source": [
    "## Setting parameters\n",
    "\n",
    "The second step is to define all parameters needed for training."
   ]
  },
  {
   "cell_type": "code",
   "execution_count": 2,
   "metadata": {
    "scrolled": true
   },
   "outputs": [],
   "source": [
    "########################\n",
    "# Image parameters\n",
    "########################\n",
    "# training dataset location \n",
    "training_dir = \"./datasets/Nuclei/training/\"\n",
    "validation_dir = \"./datasets/Nuclei/validation/\"\n",
    "\n",
    "########################\n",
    "# Training parameters\n",
    "########################\n",
    "# pre-trained model used for transfer learning\n",
    "input_model = \"pretrainedClassifiers/mask_rcnn_coco.h5\"\n",
    "\n",
    "# model parts to be trained, number of epochs and learning rate\n",
    "# heads: training for network heads only\n",
    "# 4+: training for layers at stage 4 and up (the previous ones are frozen)\n",
    "# all: all network is trained\n",
    "epoch_groups = [{\"layers\":\"heads\",\"epochs\":\"1\",\"learning_rate\":\"0.001\"},\n",
    "               {\"layers\":\"all\",\"epochs\":\"3\",\"learning_rate\":\"0.0005\"}]\n",
    "\n",
    "# number of augmented images for each image in the training dataset\n",
    "nb_augmentations = 100\n",
    "\n",
    "# Non-maximum suppression threshold for detection\n",
    "detection_nms_threshold = 0.5\n",
    "\n",
    "# Non-max suppression threshold to filter region proposal network proposals\n",
    "# lower value will increase the number of proposals\n",
    "rpn_nms_threshold = 0.6\n",
    "\n",
    "# if no validation folder is given, corresponds to the proportion of images-masks in the training folder that are used for validation\n",
    "train_to_val_ratio = 0.2\n",
    "\n",
    "# image size\n",
    "image_size = 512\n",
    "\n",
    "########################\n",
    "# Output parameters\n",
    "########################\n",
    "# location for trained model\n",
    "output_dir = \"./trainedClassifiers/Nuclei/\"\n",
    "\n",
    "# output model name\n",
    "model_name = \"MaskRCNN_DA100_1_3_epochs\"\n",
    "\n",
    "########################\n",
    "# Model initialization\n",
    "########################\n",
    "model = additional_train.MaskTrain(training_dir, validation_dir, input_model,output_dir, model_name,\n",
    "                    epoch_groups, nb_augmentations, train_to_val_ratio,\n",
    "                    detection_nms_threshold, rpn_nms_threshold,image_size)"
   ]
  },
  {
   "cell_type": "markdown",
   "metadata": {},
   "source": [
    "## Training Mask R-CNN\n",
    "\n",
    "Now, the training can start."
   ]
  },
  {
   "cell_type": "code",
   "execution_count": null,
   "metadata": {},
   "outputs": [
    {
     "name": "stdout",
     "output_type": "stream",
     "text": [
      "training images (with augmentation): 3636\n",
      "validation images (with augmentation): 12\n",
      "WARNING:tensorflow:From /media/thierry/thp202/Work/Jupyter/NucleiSegmentationAndMarkerIDentification/deep_env/lib/python3.6/site-packages/keras/backend/tensorflow_backend.py:517: The name tf.placeholder is deprecated. Please use tf.compat.v1.placeholder instead.\n",
      "\n",
      "WARNING:tensorflow:From /media/thierry/thp202/Work/Jupyter/NucleiSegmentationAndMarkerIDentification/deep_env/lib/python3.6/site-packages/keras/backend/tensorflow_backend.py:74: The name tf.get_default_graph is deprecated. Please use tf.compat.v1.get_default_graph instead.\n",
      "\n",
      "WARNING:tensorflow:From /media/thierry/thp202/Work/Jupyter/NucleiSegmentationAndMarkerIDentification/deep_env/lib/python3.6/site-packages/keras/backend/tensorflow_backend.py:4138: The name tf.random_uniform is deprecated. Please use tf.random.uniform instead.\n",
      "\n",
      "WARNING:tensorflow:From /media/thierry/thp202/Work/Jupyter/NucleiSegmentationAndMarkerIDentification/deep_env/lib/python3.6/site-packages/keras/backend/tensorflow_backend.py:1919: The name tf.nn.fused_batch_norm is deprecated. Please use tf.compat.v1.nn.fused_batch_norm instead.\n",
      "\n",
      "WARNING:tensorflow:From /media/thierry/thp202/Work/Jupyter/NucleiSegmentationAndMarkerIDentification/deep_env/lib/python3.6/site-packages/keras/backend/tensorflow_backend.py:3976: The name tf.nn.max_pool is deprecated. Please use tf.nn.max_pool2d instead.\n",
      "\n",
      "WARNING:tensorflow:From /media/thierry/thp202/Work/Jupyter/NucleiSegmentationAndMarkerIDentification/deep_env/lib/python3.6/site-packages/keras/backend/tensorflow_backend.py:2018: The name tf.image.resize_nearest_neighbor is deprecated. Please use tf.compat.v1.image.resize_nearest_neighbor instead.\n",
      "\n",
      "WARNING:tensorflow:From /media/thierry/thp202/Work/Jupyter/NucleiSegmentationAndMarkerIDentification/deep_env/lib/python3.6/site-packages/tensorflow/python/ops/array_ops.py:1354: add_dispatch_support.<locals>.wrapper (from tensorflow.python.ops.array_ops) is deprecated and will be removed in a future version.\n",
      "Instructions for updating:\n",
      "Use tf.where in 2.0, which has the same broadcast rule as np.where\n",
      "WARNING:tensorflow:From Mask_RCNN-2.1/mrcnn_model.py:529: The name tf.random_shuffle is deprecated. Please use tf.random.shuffle instead.\n",
      "\n",
      "WARNING:tensorflow:From Mask_RCNN-2.1/mrcnn_utils.py:196: The name tf.log is deprecated. Please use tf.math.log instead.\n",
      "\n",
      "WARNING:tensorflow:From Mask_RCNN-2.1/mrcnn_model.py:572: calling crop_and_resize_v1 (from tensorflow.python.ops.image_ops_impl) with box_ind is deprecated and will be removed in a future version.\n",
      "Instructions for updating:\n",
      "box_ind is deprecated, use box_indices instead\n",
      "\n",
      "Starting at epoch 0. LR=0.001\n",
      "\n",
      "Checkpoint Path: ./trainedClassifiers/Nuclei/nuclei20210127T2121/mask_rcnn_nuclei_{epoch:04d}.h5\n",
      "In model:  rpn_model\n",
      "WARNING:tensorflow:From /media/thierry/thp202/Work/Jupyter/NucleiSegmentationAndMarkerIDentification/deep_env/lib/python3.6/site-packages/keras/optimizers.py:790: The name tf.train.Optimizer is deprecated. Please use tf.compat.v1.train.Optimizer instead.\n",
      "\n"
     ]
    },
    {
     "name": "stderr",
     "output_type": "stream",
     "text": [
      "/media/thierry/thp202/Work/Jupyter/NucleiSegmentationAndMarkerIDentification/deep_env/lib/python3.6/site-packages/tensorflow/python/ops/gradients_util.py:93: UserWarning: Converting sparse IndexedSlices to a dense Tensor of unknown shape. This may consume a large amount of memory.\n",
      "  \"Converting sparse IndexedSlices to a dense Tensor of unknown shape. \"\n",
      "/media/thierry/thp202/Work/Jupyter/NucleiSegmentationAndMarkerIDentification/deep_env/lib/python3.6/site-packages/tensorflow/python/ops/gradients_util.py:93: UserWarning: Converting sparse IndexedSlices to a dense Tensor of unknown shape. This may consume a large amount of memory.\n",
      "  \"Converting sparse IndexedSlices to a dense Tensor of unknown shape. \"\n",
      "/media/thierry/thp202/Work/Jupyter/NucleiSegmentationAndMarkerIDentification/deep_env/lib/python3.6/site-packages/tensorflow/python/ops/gradients_util.py:93: UserWarning: Converting sparse IndexedSlices to a dense Tensor of unknown shape. This may consume a large amount of memory.\n",
      "  \"Converting sparse IndexedSlices to a dense Tensor of unknown shape. \"\n",
      "/media/thierry/thp202/Work/Jupyter/NucleiSegmentationAndMarkerIDentification/deep_env/lib/python3.6/site-packages/keras/engine/training_generator.py:47: UserWarning: Using a generator with `use_multiprocessing=True` and multiple workers may duplicate your data. Please consider using the`keras.utils.Sequence class.\n",
      "  UserWarning('Using a generator with `use_multiprocessing=True`'\n"
     ]
    },
    {
     "name": "stdout",
     "output_type": "stream",
     "text": [
      "WARNING:tensorflow:From /media/thierry/thp202/Work/Jupyter/NucleiSegmentationAndMarkerIDentification/deep_env/lib/python3.6/site-packages/keras/callbacks.py:850: The name tf.summary.merge_all is deprecated. Please use tf.compat.v1.summary.merge_all instead.\n",
      "\n",
      "WARNING:tensorflow:From /media/thierry/thp202/Work/Jupyter/NucleiSegmentationAndMarkerIDentification/deep_env/lib/python3.6/site-packages/keras/callbacks.py:853: The name tf.summary.FileWriter is deprecated. Please use tf.compat.v1.summary.FileWriter instead.\n",
      "\n",
      "Epoch 1/1\n"
     ]
    },
    {
     "name": "stderr",
     "output_type": "stream",
     "text": [
      "/media/thierry/thp202/Work/Jupyter/NucleiSegmentationAndMarkerIDentification/deep_env/lib/python3.6/site-packages/scipy/ndimage/interpolation.py:583: UserWarning: From scipy 0.13.0, the output shape of zoom() is calculated with round() instead of int() - for these inputs the size of the returned array has changed.\n",
      "  \"the returned array has changed.\", UserWarning)\n",
      "/media/thierry/thp202/Work/Jupyter/NucleiSegmentationAndMarkerIDentification/deep_env/lib/python3.6/site-packages/scipy/ndimage/interpolation.py:583: UserWarning: From scipy 0.13.0, the output shape of zoom() is calculated with round() instead of int() - for these inputs the size of the returned array has changed.\n",
      "  \"the returned array has changed.\", UserWarning)\n"
     ]
    },
    {
     "name": "stdout",
     "output_type": "stream",
     "text": [
      " 128/3636 [>.............................] - ETA: 35:00 - loss: 4.6836 - rpn_class_loss: 0.0782 - rpn_bbox_loss: 4.2371 - mrcnn_class_loss: 0.0636 - mrcnn_bbox_loss: 0.2565 - mrcnn_mask_loss: 0.0481"
     ]
    }
   ],
   "source": [
    "# training\n",
    "model.Train()"
   ]
  },
  {
   "cell_type": "code",
   "execution_count": null,
   "metadata": {},
   "outputs": [],
   "source": []
  }
 ],
 "metadata": {
  "kernelspec": {
   "display_name": "Python 3",
   "language": "python",
   "name": "python3"
  },
  "language_info": {
   "codemirror_mode": {
    "name": "ipython",
    "version": 3
   },
   "file_extension": ".py",
   "mimetype": "text/x-python",
   "name": "python",
   "nbconvert_exporter": "python",
   "pygments_lexer": "ipython3",
   "version": "3.6.9"
  }
 },
 "nbformat": 4,
 "nbformat_minor": 1
}
