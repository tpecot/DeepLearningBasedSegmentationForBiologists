{
 "cells": [
  {
   "cell_type": "markdown",
   "metadata": {},
   "source": [
    "## Loading\n",
    "\n",
    "The first step is to load the libraries and functions we need."
   ]
  },
  {
   "cell_type": "code",
   "execution_count": 1,
   "metadata": {},
   "outputs": [
    {
     "name": "stderr",
     "output_type": "stream",
     "text": [
      "Using TensorFlow backend.\n"
     ]
    }
   ],
   "source": [
    "from utils import train_model_sample, get_image, process_image\n",
    "from models import unet as unet"
   ]
  },
  {
   "cell_type": "markdown",
   "metadata": {},
   "source": [
    "## Setting parameters\n",
    "\n",
    "The second step is to define all parameters needed for training."
   ]
  },
  {
   "cell_type": "code",
   "execution_count": 5,
   "metadata": {},
   "outputs": [],
   "source": [
    "########################\n",
    "# Image parameters\n",
    "########################\n",
    "# training dataset location \n",
    "training_dir = \"./datasets/EpitheliumStroma/training_1024\"\n",
    "validation_dir = \"./datasets/EpitheliumStroma/validation_1024\"\n",
    "\n",
    "# input number of channels\n",
    "nb_channels = 2\n",
    "\n",
    "# output number of classes\n",
    "nb_classes = 3\n",
    "\n",
    "# imaging field dimension (image size used in U-Net)\n",
    "imaging_field_x = 1024\n",
    "imaging_field_y = 1024\n",
    "\n",
    "########################\n",
    "# Training parameters\n",
    "########################\n",
    "# learning rate\n",
    "learning_rate = 1e-4\n",
    "\n",
    "# number of epochs (iterations)\n",
    "nb_epochs = 25\n",
    "\n",
    "# number of augmented images for each image in the training dataset\n",
    "nb_augmentations = 0\n",
    "\n",
    "# number of images processed at onece\n",
    "batch_size = 1\n",
    "\n",
    "# if no validation folder is given, corresponds to the proportion of images-masks in the training folder that are used for validation\n",
    "train_to_val_ratio = 0.2\n",
    "\n",
    "########################\n",
    "# Output parameters\n",
    "########################\n",
    "# location for trained model\n",
    "output_dir = \"./trainedClassifiers/EpitheliumStroma/\"\n",
    "\n",
    "# output model name\n",
    "model_name = \"Unet_DAPI_CK_1024_DA0_25ep\"\n",
    "\n",
    "########################\n",
    "# Model initialization\n",
    "########################\n",
    "model = unet(nb_classes, imaging_field_x, imaging_field_y, nb_channels)"
   ]
  },
  {
   "cell_type": "markdown",
   "metadata": {},
   "source": [
    "## Training U-Net\n",
    "\n",
    "Now, the training can start."
   ]
  },
  {
   "cell_type": "code",
   "execution_count": 7,
   "metadata": {
    "scrolled": false
   },
   "outputs": [
    {
     "name": "stdout",
     "output_type": "stream",
     "text": [
      "12 training images\n",
      "4 validation images\n",
      "Epoch 1/25\n",
      "12/12 [==============================] - 16s 1s/step - loss: 1.1897 - acc: 0.6039 - val_loss: 0.8184 - val_acc: 0.9240\n",
      "Epoch 2/25\n",
      "12/12 [==============================] - 7s 577ms/step - loss: 1.0179 - acc: 0.8151 - val_loss: 0.8050 - val_acc: 0.9135\n",
      "Epoch 3/25\n",
      "12/12 [==============================] - 7s 560ms/step - loss: 1.0264 - acc: 0.7954 - val_loss: 0.8031 - val_acc: 0.9038\n",
      "Epoch 4/25\n",
      "12/12 [==============================] - 7s 560ms/step - loss: 0.9527 - acc: 0.8458 - val_loss: 0.7799 - val_acc: 0.9388\n",
      "Epoch 5/25\n",
      "12/12 [==============================] - 7s 570ms/step - loss: 1.0079 - acc: 0.7815 - val_loss: 0.7822 - val_acc: 0.9440\n",
      "Epoch 6/25\n",
      "12/12 [==============================] - 7s 576ms/step - loss: 0.9186 - acc: 0.8594 - val_loss: 0.8170 - val_acc: 0.9235\n",
      "Epoch 7/25\n",
      "12/12 [==============================] - 7s 576ms/step - loss: 0.9233 - acc: 0.8710 - val_loss: 0.9099 - val_acc: 0.8997\n",
      "Epoch 8/25\n",
      "12/12 [==============================] - 7s 573ms/step - loss: 0.9953 - acc: 0.7866 - val_loss: 0.8107 - val_acc: 0.9422\n",
      "Epoch 9/25\n",
      "12/12 [==============================] - 7s 592ms/step - loss: 0.9133 - acc: 0.8845 - val_loss: 0.7781 - val_acc: 0.9353\n",
      "Epoch 10/25\n",
      "12/12 [==============================] - 7s 569ms/step - loss: 0.8634 - acc: 0.9060 - val_loss: 0.8108 - val_acc: 0.9300\n",
      "Epoch 11/25\n",
      "12/12 [==============================] - 7s 571ms/step - loss: 0.9506 - acc: 0.8380 - val_loss: 0.7630 - val_acc: 0.9433\n",
      "Epoch 12/25\n",
      "12/12 [==============================] - 7s 567ms/step - loss: 0.9361 - acc: 0.8265 - val_loss: 0.7745 - val_acc: 0.9360\n",
      "Epoch 13/25\n",
      "12/12 [==============================] - 7s 574ms/step - loss: 0.9279 - acc: 0.8712 - val_loss: 0.7666 - val_acc: 0.9404\n",
      "Epoch 14/25\n",
      "12/12 [==============================] - 7s 583ms/step - loss: 0.9320 - acc: 0.8568 - val_loss: 0.7733 - val_acc: 0.9416\n",
      "Epoch 15/25\n",
      "12/12 [==============================] - 7s 582ms/step - loss: 0.8437 - acc: 0.9248 - val_loss: 0.7769 - val_acc: 0.9430\n",
      "Epoch 16/25\n",
      "12/12 [==============================] - 7s 575ms/step - loss: 0.8413 - acc: 0.9323 - val_loss: 0.8084 - val_acc: 0.9278\n",
      "Epoch 17/25\n",
      "12/12 [==============================] - 7s 587ms/step - loss: 0.8256 - acc: 0.9327 - val_loss: 0.8851 - val_acc: 0.9234\n",
      "Epoch 18/25\n",
      "12/12 [==============================] - 7s 573ms/step - loss: 0.8273 - acc: 0.9294 - val_loss: 0.8026 - val_acc: 0.9237\n",
      "Epoch 19/25\n",
      "12/12 [==============================] - 7s 589ms/step - loss: 0.8951 - acc: 0.8829 - val_loss: 0.8026 - val_acc: 0.9128\n",
      "Epoch 20/25\n",
      "12/12 [==============================] - 7s 587ms/step - loss: 0.8486 - acc: 0.9380 - val_loss: 0.8103 - val_acc: 0.9173\n",
      "Epoch 21/25\n",
      "12/12 [==============================] - 7s 588ms/step - loss: 0.8489 - acc: 0.9268 - val_loss: 0.8116 - val_acc: 0.9221\n",
      "Epoch 22/25\n",
      "12/12 [==============================] - 7s 576ms/step - loss: 0.8286 - acc: 0.9285 - val_loss: 0.8875 - val_acc: 0.8782\n",
      "Epoch 23/25\n",
      "12/12 [==============================] - 7s 582ms/step - loss: 0.8480 - acc: 0.9407 - val_loss: 0.8156 - val_acc: 0.9113\n",
      "Epoch 24/25\n",
      "12/12 [==============================] - 7s 574ms/step - loss: 0.8274 - acc: 0.9479 - val_loss: 0.8255 - val_acc: 0.9116\n",
      "Epoch 25/25\n",
      "12/12 [==============================] - 7s 589ms/step - loss: 0.8406 - acc: 0.9434 - val_loss: 0.8442 - val_acc: 0.8825\n"
     ]
    }
   ],
   "source": [
    "train_model_sample(model, training_dir, validation_dir, model_name, batch_size, nb_epochs, \n",
    "                   imaging_field_x, imaging_field_y, output_dir, learning_rate, \n",
    "                   nb_augmentations, train_to_val_ratio)\n",
    "\n",
    "del model"
   ]
  },
  {
   "cell_type": "code",
   "execution_count": null,
   "metadata": {},
   "outputs": [],
   "source": []
  }
 ],
 "metadata": {
  "kernelspec": {
   "display_name": "Python 3",
   "language": "python",
   "name": "python3"
  },
  "language_info": {
   "codemirror_mode": {
    "name": "ipython",
    "version": 3
   },
   "file_extension": ".py",
   "mimetype": "text/x-python",
   "name": "python",
   "nbconvert_exporter": "python",
   "pygments_lexer": "ipython3",
   "version": "3.6.9"
  }
 },
 "nbformat": 4,
 "nbformat_minor": 1
}
