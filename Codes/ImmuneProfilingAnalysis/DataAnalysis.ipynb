{
 "cells": [
  {
   "cell_type": "markdown",
   "id": "differential-appreciation",
   "metadata": {},
   "source": [
    "## Load R functions"
   ]
  },
  {
   "cell_type": "code",
   "execution_count": null,
   "id": "parliamentary-business",
   "metadata": {},
   "outputs": [],
   "source": [
    "source('./Rcodes/functions.R')"
   ]
  },
  {
   "cell_type": "markdown",
   "id": "timely-onion",
   "metadata": {},
   "source": [
    "## Summarize data"
   ]
  },
  {
   "cell_type": "code",
   "execution_count": null,
   "id": "nuclear-herald",
   "metadata": {},
   "outputs": [],
   "source": [
    "summarize_data()"
   ]
  },
  {
   "cell_type": "markdown",
   "id": "smoking-sunrise",
   "metadata": {},
   "source": [
    "## Perform spatial distribution analysis"
   ]
  },
  {
   "cell_type": "code",
   "execution_count": null,
   "id": "alleged-entry",
   "metadata": {},
   "outputs": [],
   "source": [
    "spatial_distribution_analysis()"
   ]
  }
 ],
 "metadata": {
  "kernelspec": {
   "display_name": "R",
   "language": "R",
   "name": "ir"
  },
  "language_info": {
   "codemirror_mode": "r",
   "file_extension": ".r",
   "mimetype": "text/x-r-source",
   "name": "R",
   "pygments_lexer": "r",
   "version": "4.0.3"
  }
 },
 "nbformat": 4,
 "nbformat_minor": 5
}
