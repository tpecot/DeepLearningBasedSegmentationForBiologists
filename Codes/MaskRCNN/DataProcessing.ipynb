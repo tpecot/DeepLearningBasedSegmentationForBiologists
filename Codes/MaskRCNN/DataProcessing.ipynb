{
 "cells": [
  {
   "cell_type": "markdown",
   "metadata": {},
   "source": [
    "## Loading\n",
    "\n",
    "The first step is to load the functions from utils."
   ]
  },
  {
   "cell_type": "code",
   "execution_count": 1,
   "metadata": {},
   "outputs": [
    {
     "name": "stderr",
     "output_type": "stream",
     "text": [
      "Using TensorFlow backend.\n"
     ]
    }
   ],
   "source": [
    "from utils import extract_channels, divide_images, merge_scales"
   ]
  },
  {
   "cell_type": "markdown",
   "metadata": {},
   "source": [
    "## Extract channel(s) "
   ]
  },
  {
   "cell_type": "code",
   "execution_count": 2,
   "metadata": {
    "scrolled": true
   },
   "outputs": [],
   "source": [
    "# folder with input images\n",
    "input_image_dir = '../../data/Polyps_multiplexedImages/'\n",
    "\n",
    "# folder with output images\n",
    "output_image_dir = './datasets/Nuclei/test/'\n",
    "\n",
    "# channels to be extracted\n",
    "channels = [0]\n",
    "\n",
    "# call function\n",
    "extract_channels(input_image_dir, output_image_dir, channels)"
   ]
  },
  {
   "cell_type": "markdown",
   "metadata": {},
   "source": [
    "## Divide image into sub-images"
   ]
  },
  {
   "cell_type": "code",
   "execution_count": 3,
   "metadata": {
    "scrolled": true
   },
   "outputs": [],
   "source": [
    "# folder with input images\n",
    "input_image_dir = '../../data/AnnotatedNuclei/images/'\n",
    "\n",
    "# folder with output images\n",
    "output_image_dir = './datasets/Nuclei/training/images/'\n",
    "\n",
    "# channels to be extracted\n",
    "width_divider = 4\n",
    "height_divider = 3\n",
    "\n",
    "# call function\n",
    "divide_images(input_image_dir, output_image_dir, width_divider, height_divider)"
   ]
  },
  {
   "cell_type": "code",
   "execution_count": null,
   "metadata": {},
   "outputs": [],
   "source": []
  }
 ],
 "metadata": {
  "kernelspec": {
   "display_name": "Python 3",
   "language": "python",
   "name": "python3"
  },
  "language_info": {
   "codemirror_mode": {
    "name": "ipython",
    "version": 3
   },
   "file_extension": ".py",
   "mimetype": "text/x-python",
   "name": "python",
   "nbconvert_exporter": "python",
   "pygments_lexer": "ipython3",
   "version": "3.6.9"
  }
 },
 "nbformat": 4,
 "nbformat_minor": 1
}
