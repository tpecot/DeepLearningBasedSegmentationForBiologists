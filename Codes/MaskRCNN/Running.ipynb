{
 "cells": [
  {
   "cell_type": "markdown",
   "metadata": {},
   "source": [
    "## Loading\n",
    "\n",
    "The first step is to load the libraries and functions we need."
   ]
  },
  {
   "cell_type": "code",
   "execution_count": 1,
   "metadata": {},
   "outputs": [
    {
     "name": "stderr",
     "output_type": "stream",
     "text": [
      "Using TensorFlow backend.\n"
     ]
    }
   ],
   "source": [
    "import sys\n",
    "sys.path.append(\"Mask_RCNN-2.1\")\n",
    "import mrcnn_model\n",
    "import mrcnn_utils\n",
    "sys.path.append(\"biomagdsb\")\n",
    "import mask_rcnn_additional\n",
    "import kutils\n",
    "import additional_segmentation"
   ]
  },
  {
   "cell_type": "markdown",
   "metadata": {},
   "source": [
    "## Setting parameters\n",
    "\n",
    "The second step is to define the parameters required to run a model."
   ]
  },
  {
   "cell_type": "code",
   "execution_count": 2,
   "metadata": {
    "scrolled": true
   },
   "outputs": [],
   "source": [
    "########################\n",
    "# Input image folder and model\n",
    "########################\n",
    "# location of folder with images to be segmented\n",
    "input_dir = \"./datasets/Nuclei/test/\"\n",
    "\n",
    "# model location and name\n",
    "model_path = \"trainedClassifiers/Nuclei/MaskRCNN_DA100_1_3_epochs.h5\"\n",
    "\n",
    "########################\n",
    "# Processing parameters\n",
    "########################\n",
    "# image size considered, acts as segmentation at different scales\n",
    "max_dim_values = [1024, 1536, 2048]\n",
    "\n",
    "# sub-images dimension\n",
    "subsize_x = 512\n",
    "subsize_y = 512\n",
    "\n",
    "# minimum score to be considered as a segmented object, cannot be inferior to 0.5\n",
    "confidence = 0.5\n",
    "\n",
    "# Non-maximum suppression threshold for detection\n",
    "nms_thresh = 0.35\n",
    "\n",
    "# maximum number of objects per sub-image\n",
    "max_det_num = 2000\n",
    "\n",
    "\n",
    "########################\n",
    "# Output parameters\n",
    "########################\n",
    "# location of folder with processed segmented images, created if does not exist\n",
    "output_dir = \"./datasets/Nuclei/results/\"\n",
    "\n",
    "########################\n",
    "# Model initialization\n",
    "########################\n",
    "model = additional_segmentation.Segmentation(model_path, confidence, nms_thresh, max_det_num)"
   ]
  },
  {
   "cell_type": "markdown",
   "metadata": {},
   "source": [
    "## Running Mask R-CNN\n",
    "\n",
    "Now, images can be segmented."
   ]
  },
  {
   "cell_type": "code",
   "execution_count": null,
   "metadata": {},
   "outputs": [],
   "source": [
    "# segmentation processing\n",
    "model.Run(input_dir, output_dir, max_dim_values, subsize_x, subsize_y)"
   ]
  }
 ],
 "metadata": {
  "kernelspec": {
   "display_name": "Python 3",
   "language": "python",
   "name": "python3"
  },
  "language_info": {
   "codemirror_mode": {
    "name": "ipython",
    "version": 3
   },
   "file_extension": ".py",
   "mimetype": "text/x-python",
   "name": "python",
   "nbconvert_exporter": "python",
   "pygments_lexer": "ipython3",
   "version": "3.6.9"
  }
 },
 "nbformat": 4,
 "nbformat_minor": 1
}
