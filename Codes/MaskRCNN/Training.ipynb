{
 "cells": [
  {
   "cell_type": "markdown",
   "metadata": {},
   "source": [
    "## Loading\n",
    "\n",
    "The first step is to load the libraries and functions we need."
   ]
  },
  {
   "cell_type": "code",
   "execution_count": 4,
   "metadata": {},
   "outputs": [],
   "source": [
    "import sys\n",
    "sys.path.append(\"Mask_RCNN-2.1\")\n",
    "import mrcnn_model\n",
    "import mrcnn_utils\n",
    "sys.path.append(\"biomagdsb\")\n",
    "import mask_rcnn_additional\n",
    "import additional_train\n",
    "%load_ext tensorboard"
   ]
  },
  {
   "cell_type": "markdown",
   "metadata": {},
   "source": [
    "## Setting parameters\n",
    "\n",
    "The second step is to define all parameters needed for training."
   ]
  },
  {
   "cell_type": "code",
   "execution_count": 2,
   "metadata": {
    "scrolled": true
   },
   "outputs": [],
   "source": [
    "########################\n",
    "# Image parameters\n",
    "########################\n",
    "# training dataset location \n",
    "training_dir = \"./datasets/Nuclei/training/\"\n",
    "validation_dir = \"./datasets/Nuclei/validation/\"\n",
    "\n",
    "########################\n",
    "# Training parameters\n",
    "########################\n",
    "# pre-trained model used for transfer learning\n",
    "input_model = \"pretrainedClassifiers/mask_rcnn_coco.h5\"\n",
    "\n",
    "# model parts to be trained, number of epochs and learning rate\n",
    "# heads: training for network heads only\n",
    "# 4+: training for layers at stage 4 and up (the previous ones are frozen)\n",
    "# all: all network is trained\n",
    "epoch_groups = [{\"layers\":\"heads\",\"epochs\":\"1\",\"learning_rate\":\"0.001\"},\n",
    "               {\"layers\":\"all\",\"epochs\":\"3\",\"learning_rate\":\"0.0005\"}]\n",
    "\n",
    "# number of augmented images for each image in the training dataset\n",
    "nb_augmentations = 100\n",
    "\n",
    "# Non-maximum suppression threshold for detection\n",
    "detection_nms_threshold = 0.5\n",
    "\n",
    "# Non-max suppression threshold to filter region proposal network proposals\n",
    "# lower value will increase the number of proposals\n",
    "rpn_nms_threshold = 0.6\n",
    "\n",
    "# if no validation folder is given, corresponds to the proportion of images-masks in the training folder that are used for validation\n",
    "train_to_val_ratio = 0.2\n",
    "\n",
    "# image size\n",
    "image_size = 512\n",
    "\n",
    "########################\n",
    "# Output parameters\n",
    "########################\n",
    "# location for trained model\n",
    "output_dir = \"./trainedClassifiers/Nuclei/\"\n",
    "\n",
    "# output model name\n",
    "model_name = \"MaskRCNN_DA100_1_3_epochs\"\n",
    "\n",
    "########################\n",
    "# Model initialization\n",
    "########################\n",
    "model = additional_train.MaskTrain(training_dir, validation_dir, input_model,output_dir, model_name,\n",
    "                    epoch_groups, nb_augmentations, train_to_val_ratio,\n",
    "                    detection_nms_threshold, rpn_nms_threshold,image_size)"
   ]
  },
  {
   "cell_type": "markdown",
   "metadata": {},
   "source": [
    "## Training Mask R-CNN\n",
    "\n",
    "Now, the training can start."
   ]
  },
  {
   "cell_type": "code",
   "execution_count": null,
   "metadata": {},
   "outputs": [],
   "source": [
    "# training\n",
    "model.Train()"
   ]
  },
  {
   "cell_type": "markdown",
   "metadata": {},
   "source": [
    "## Showing loss and accuracy with TensorBoard"
   ]
  },
  {
   "cell_type": "code",
   "execution_count": null,
   "metadata": {},
   "outputs": [],
   "source": [
    "classifier_directory = \"./trained_classifiers/Nuclei/nuclei20210129T0316/\"\n",
    "%tensorboard --logdir {classifier_directory}"
   ]
  }
 ],
 "metadata": {
  "kernelspec": {
   "display_name": "Python 3",
   "language": "python",
   "name": "python3"
  },
  "language_info": {
   "codemirror_mode": {
    "name": "ipython",
    "version": 3
   },
   "file_extension": ".py",
   "mimetype": "text/x-python",
   "name": "python",
   "nbconvert_exporter": "python",
   "pygments_lexer": "ipython3",
   "version": "3.6.9"
  }
 },
 "nbformat": 4,
 "nbformat_minor": 1
}
